{
  "nbformat": 4,
  "nbformat_minor": 0,
  "metadata": {
    "colab": {
      "provenance": [],
      "authorship_tag": "ABX9TyO/N0UUp9QjjWkuwr6garB3",
      "include_colab_link": true
    },
    "kernelspec": {
      "name": "python3",
      "display_name": "Python 3"
    },
    "language_info": {
      "name": "python"
    }
  },
  "cells": [
    {
      "cell_type": "markdown",
      "metadata": {
        "id": "view-in-github",
        "colab_type": "text"
      },
      "source": [
        "<a href=\"https://colab.research.google.com/github/althafnk/nimesa_assignment/blob/main/nimesa_assignment.ipynb\" target=\"_parent\"><img src=\"https://colab.research.google.com/assets/colab-badge.svg\" alt=\"Open In Colab\"/></a>"
      ]
    },
    {
      "cell_type": "code",
      "execution_count": 8,
      "metadata": {
        "colab": {
          "base_uri": "https://localhost:8080/"
        },
        "id": "d8gr2iUMOl8f",
        "outputId": "d392d6d5-79bb-4701-f358-658666f2da88"
      },
      "outputs": [
        {
          "output_type": "stream",
          "name": "stdout",
          "text": [
            "Press value \n",
            " 1. Get weather \n",
            " 2. Get Wind Speed \n",
            " 3. Get Pressure \n",
            " 0. Exit\n",
            "\n",
            "1\n",
            "Get weather\n",
            "Enter date (format: YYYY-MM-DD HH:MM:SS) : 2019-03-28 15:00:00\n",
            "Temperature: 284.9 \n",
            "\n",
            "Press value \n",
            " 1. Get weather \n",
            " 2. Get Wind Speed \n",
            " 3. Get Pressure \n",
            " 0. Exit\n",
            "\n",
            "2\n",
            "Get wind Speed\n",
            "Enter date (formte: YYYY-MM-DD HH:MM:SS) : 2019-03-28 15:00:00\n",
            "wind speed: 3.64 \n",
            "\n",
            "Press value \n",
            " 1. Get weather \n",
            " 2. Get Wind Speed \n",
            " 3. Get Pressure \n",
            " 0. Exit\n",
            "\n",
            "3\n",
            " Get Pressure\n",
            "Enter date (formte: YYYY-MM-DD HH:MM:SS) : 2019-03-28 15:00:00\n",
            "Pressure: 1031.28 \n",
            "\n",
            "Press value \n",
            " 1. Get weather \n",
            " 2. Get Wind Speed \n",
            " 3. Get Pressure \n",
            " 0. Exit\n",
            "\n",
            "5\n",
            "Enter A valid Number \n",
            "\n",
            "Press value \n",
            " 1. Get weather \n",
            " 2. Get Wind Speed \n",
            " 3. Get Pressure \n",
            " 0. Exit\n",
            "\n",
            "0\n",
            "Exit \n",
            "\n"
          ]
        }
      ],
      "source": [
        "import requests\n",
        "import json\n",
        "import pandas as pd\n",
        "response = requests.get(\"https://samples.openweathermap.org/data/2.5/forecast/hourly?q=London,us&appid=b6907d289e10d714a6e88b30761fae22\")\n",
        "data= json.loads(response.text)\n",
        "list_data=data['list']\n",
        "l=True\n",
        "while(l):\n",
        "  n=input(\"Press value \\n 1. Get weather \\n 2. Get Wind Speed \\n 3. Get Pressure \\n 0. Exit\\n\\n\")\n",
        "  if(n==\"1\"):\n",
        "    print(\"Get weather\")\n",
        "    k=input(\"Enter date (format: YYYY-MM-DD HH:MM:SS) : \")\n",
        "    for i in range (len(list_data)):\n",
        "      if(list_data[i]['dt_txt']==k):\n",
        "        print(\"Temperature:\",list_data[i]['main']['temp'],\"\\n\")\n",
        "        break\n",
        "  elif(n==\"2\"):\n",
        "    print(\"Get wind Speed\")\n",
        "    k=input(\"Enter date (formte: YYYY-MM-DD HH:MM:SS) : \")\n",
        "    for i in range (len(list_data)):\n",
        "      if(list_data[i]['dt_txt']==k):\n",
        "        print(\"wind speed:\",list_data[i]['wind']['speed'],\"\\n\")\n",
        "        break\n",
        "  elif(n==\"3\"):\n",
        "    print(\" Get Pressure\")\n",
        "    k=input(\"Enter date (formte: YYYY-MM-DD HH:MM:SS) : \")\n",
        "    for i in range (len(list_data)):\n",
        "      if(list_data[i]['dt_txt']==k):\n",
        "        print(\"Pressure:\",list_data[i]['main']['pressure'],\"\\n\")\n",
        "        break\n",
        "  elif(n==\"0\"):\n",
        "    print(\"\",\"\\n\")\n",
        "    l=False\n",
        "  else:\n",
        "    print(\"Enter A valid Number\",\"\\n\")"
      ]
    },
    {
      "cell_type": "code",
      "source": [],
      "metadata": {
        "id": "kv9eFLKZPCSb"
      },
      "execution_count": null,
      "outputs": []
    }
  ]
}